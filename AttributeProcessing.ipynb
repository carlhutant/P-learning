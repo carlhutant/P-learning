{
 "cells": [
  {
   "cell_type": "code",
   "execution_count": 21,
   "metadata": {},
   "outputs": [],
   "source": [
    "import pandas as pd\n",
    "import numpy as np"
   ]
  },
  {
   "cell_type": "code",
   "execution_count": 22,
   "metadata": {},
   "outputs": [],
   "source": [
    "###########change dataset here##########\n",
    "dataset = 'AWA2'\n",
    "########################################\n",
    "\n",
    "attr_binary_path = './data/{}/predicate-matrix-binary.txt'.format(dataset)\n",
    "attr_continous_path = './data/{}/predicate-matrix-continuous.txt'.format(dataset)\n"
   ]
  },
  {
   "cell_type": "markdown",
   "metadata": {},
   "source": [
    "## Processing "
   ]
  },
  {
   "cell_type": "code",
   "execution_count": 23,
   "metadata": {
    "scrolled": true
   },
   "outputs": [],
   "source": [
    "RealCE_binary = pd.read_csv(attr_binary_path,header=None,sep='\\t')"
   ]
  },
  {
   "cell_type": "code",
   "execution_count": 41,
   "metadata": {},
   "outputs": [],
   "source": [
    "attr_list_b = []\n",
    "\n",
    "for idx in range(len(RealCE_binary)):\n",
    "    tmp = RealCE_binary[0][idx].split(' ')\n",
    "    for t_idx in range(len(tmp)):\n",
    "        if tmp[t_idx] == '0':\n",
    "            tmp[t_idx] = -1\n",
    "    attr = [int(i) for i in tmp if i!='']\n",
    "    attr = np.array(attr)\n",
    "    attr_list_b.append(attr)"
   ]
  },
  {
   "cell_type": "markdown",
   "metadata": {},
   "source": [
    "## Save"
   ]
  },
  {
   "cell_type": "code",
   "execution_count": 42,
   "metadata": {},
   "outputs": [],
   "source": [
    "attr_list_b = np.array(attr_list_b)"
   ]
  },
  {
   "cell_type": "code",
   "execution_count": 43,
   "metadata": {},
   "outputs": [],
   "source": [
    "attr_list_b = pd.DataFrame(attr_list_b)"
   ]
  },
  {
   "cell_type": "code",
   "execution_count": 45,
   "metadata": {},
   "outputs": [],
   "source": [
    "attr_list_b.to_csv('tmp.txt',header=None, sep=' ',index=None)"
   ]
  }
 ],
 "metadata": {
  "kernelspec": {
   "display_name": "Python 3.6.8 64-bit ('3.6.8': pyenv)",
   "language": "python",
   "name": "python36864bit368pyenvd95b829e87414dda87f73a84dcd10ea0"
  },
  "language_info": {
   "codemirror_mode": {
    "name": "ipython",
    "version": 3
   },
   "file_extension": ".py",
   "mimetype": "text/x-python",
   "name": "python",
   "nbconvert_exporter": "python",
   "pygments_lexer": "ipython3",
   "version": "3.6.8"
  }
 },
 "nbformat": 4,
 "nbformat_minor": 4
}
